{
 "cells": [
  {
   "cell_type": "markdown",
   "metadata": {},
   "source": [
    "# In-Class Exercises, Ch. 3, For Loops\n",
    "\n",
    "[Python & Pandas Field Guide: Section 3.1. For Loops](https://snakebear.science/03-ControlStructures/ForLoops.html)\n",
    "\n",
    "Key ideas in these exercises:\n",
    "1. String data\n",
    "2. For loops"
   ]
  },
  {
   "cell_type": "markdown",
   "metadata": {},
   "source": [
    "***\n",
    "## Some Examples of String Multiplication\n",
    "Look at the following line of code. Make a prediction about what it will do and then run it."
   ]
  },
  {
   "cell_type": "code",
   "execution_count": null,
   "metadata": {},
   "outputs": [],
   "source": [
    "print(\"Hello \" * 5)"
   ]
  },
  {
   "cell_type": "markdown",
   "metadata": {},
   "source": [
    "Do the same for the code below. Notice that any 'white space' in a string is treated just like any other part of the string &ndash; a space is just another character, like an 'a' or a '5'."
   ]
  },
  {
   "cell_type": "code",
   "execution_count": null,
   "metadata": {},
   "outputs": [],
   "source": [
    "print(\"Hello \" * 5)\n",
    "print(\"Hello\" * 5)\n",
    "print(\"        !!!            \" * 5)\n",
    "print(\"byeGood\" * 10)\n",
    "print(\"What?\" * 0)\n",
    "print(\"|Snake Bear!\" * 30)"
   ]
  },
  {
   "cell_type": "markdown",
   "metadata": {},
   "source": [
    "***\n",
    "## Exercise 1\n",
    "This code prints a triangle without using string multiplication. It is not very interesting."
   ]
  },
  {
   "cell_type": "code",
   "execution_count": null,
   "metadata": {},
   "outputs": [],
   "source": [
    "print(\"     *\")\n",
    "print(\"    ***\")\n",
    "print(\"   *****\")\n",
    "print(\"  *******\")\n",
    "print(\" *********\")\n",
    "print(\"***********\")"
   ]
  },
  {
   "cell_type": "markdown",
   "metadata": {},
   "source": [
    "Write a program that uses string multiplication to make the same triangle pattern by repeating spaces and asterisks."
   ]
  },
  {
   "cell_type": "code",
   "execution_count": null,
   "metadata": {},
   "outputs": [],
   "source": [
    "# Write your code here"
   ]
  },
  {
   "cell_type": "markdown",
   "metadata": {},
   "source": [
    "Now, try to make the same triangle using only *two* lines of code.  Think through how you can call ``print()`` six times with only two lines of code...  Ask for a tip if you need one!"
   ]
  },
  {
   "cell_type": "code",
   "execution_count": null,
   "metadata": {},
   "outputs": [],
   "source": [
    "# Write your code here"
   ]
  },
  {
   "cell_type": "markdown",
   "metadata": {},
   "source": [
    "When you have this working, ask an instructor to come over and look at your code.  We might be able to give a few additional pointers on your code."
   ]
  },
  {
   "cell_type": "markdown",
   "metadata": {},
   "source": [
    "***\n",
    "## Exercise 2\n",
    "\n",
    "In the first chapter of the textbook, we saw some code that counts words in a string of text that start with a given letter.  Let's try to do some different simple analyses on this kind of data here.\n",
    "\n",
    "The code cell below reads in text from the file named in the ``filename`` variable and creates a list of all of the words in the text.  The list is assigned to the ``words`` variable.\n",
    "\n",
    "Execute this cell to read the file and create the ``words`` list.  You can change the ``filename`` variable and re-run the cell to read different files.  There are three included in this directory already (see the file browser on the left), and you can upload your own if you want."
   ]
  },
  {
   "cell_type": "code",
   "execution_count": null,
   "metadata": {},
   "outputs": [],
   "source": [
    "filename = \"atotc_opening.txt\"\n",
    "\n",
    "with open(filename) as f:\n",
    "    file_contents = f.read()\n",
    "\n",
    "words = file_contents.split()"
   ]
  },
  {
   "cell_type": "markdown",
   "metadata": {},
   "source": [
    "Remember the ``len()`` function?  It can tell us the length of the ``file_contents`` string, as we've seen, and it can also give us the number of items in a list like ``words``.  Write some code to print out the length of ``file_contents`` and the length of ``words``.  This gives us the number of characters in the file in total and the number of words in the list of words."
   ]
  },
  {
   "cell_type": "code",
   "execution_count": null,
   "metadata": {},
   "outputs": [],
   "source": [
    "# Write your code here"
   ]
  },
  {
   "cell_type": "markdown",
   "metadata": {},
   "source": [
    "Now, let's add up the lengths of the words and prints the result.  Remember that a for loop lets us repeat some code for every item in a list.  To write code that adds the lengths of the words, think about what steps need to be repeated; those steps will go into the body of the for loop.  You will also need to think about how to use a variable to store and update the growing sum.  As always, ask for a tip if you need one!\n",
    "\n",
    "*[Suggestion: if you have a for loop repeating once for every word in the list, you probably **don't** want to put a ``print()`` statement inside that loop.  It will print way more than is useful, and it may take a long time to finish, too.]*"
   ]
  },
  {
   "cell_type": "code",
   "execution_count": null,
   "metadata": {},
   "outputs": [],
   "source": [
    "# Write your code here"
   ]
  },
  {
   "cell_type": "markdown",
   "metadata": {},
   "source": [
    "When this is working, the total length of the words will *not* match the length of ``file_contents``.  Why is that?\n",
    "\n",
    "Ask an instructor to look over your code, and while they're there, check your idea about why the lengths aren't the same."
   ]
  },
  {
   "cell_type": "markdown",
   "metadata": {},
   "source": [
    "***\n",
    "## Exercise 3\n",
    "\n",
    "If you still have time, here's a more challenging one.  Using the ``words`` list generated above, write code that will find the *longest* word in the list.\n",
    "\n",
    "It's often useful to think through a problem like this first in terms of how *you* would solve it yourself, without a computer.  That is, if someone gave you a book or other long text, a notepad, and a pencil, what steps would you follow to find the longest word in the text?  Then, think about what steps you are repeating, and try to make a formal series of instructions for doing the work.  *Then* you can think about how to translate that into instructions for the computer to follow in Python.  This basic process helps you work from a high level of understanding down to a more detailed level with the instructions themselves, and it can be much easier than trying to think through all of the details of the code all at once.\n",
    "\n",
    "(Remember that when testing, you can change the ``filename`` variable and re-run the cell that reads the file to get different data into ``words`` if you want to see what your code does on the other files.)"
   ]
  },
  {
   "cell_type": "code",
   "execution_count": null,
   "metadata": {},
   "outputs": [],
   "source": [
    "# Write your code here"
   ]
  },
  {
   "cell_type": "markdown",
   "metadata": {},
   "source": [
    "Feel free to show this one to an instructor in class, or bring it to office hours if you want someone to look it over later."
   ]
  }
 ],
 "metadata": {
  "kernelspec": {
   "display_name": "Python 3",
   "language": "python",
   "name": "python3"
  },
  "language_info": {
   "codemirror_mode": {
    "name": "ipython",
    "version": 3
   },
   "file_extension": ".py",
   "mimetype": "text/x-python",
   "name": "python",
   "nbconvert_exporter": "python",
   "pygments_lexer": "ipython3",
   "version": "3.6.5"
  }
 },
 "nbformat": 4,
 "nbformat_minor": 2
}
