{
 "cells": [
  {
   "cell_type": "markdown",
   "metadata": {},
   "source": [
    "# Guppies\n",
    "\n",
    "Author: CS/DS 125\n",
    "\n",
    "Date: September, 2018\n",
    "\n",
    "Description:  A simple betting game from nerd camp."
   ]
  },
  {
   "cell_type": "code",
   "execution_count": null,
   "metadata": {},
   "outputs": [],
   "source": [
    "# import the random library\n",
    "import random\n",
    "\n",
    "# Print a greeting message\n",
    "print(\"Welcome to Guppies!\")\n",
    "print()\n",
    "\n",
    "# Setup the user's money\n",
    "doubloons = 100\n",
    "\n",
    "# Tell the user how much money they have\n",
    "print(\"You are starting with\", doubloons, \"doubloons.\")\n",
    "\n",
    "# Repeat as long as player has money\n",
    "while doubloons > 0:\n",
    "    # Ask the user for a bet\n",
    "    bet = int(input(\"Please enter your bet (enter 0 to stop playing): \"))\n",
    "\n",
    "    # Set a limit on the bet (make sure it's valid)\n",
    "    while bet > doubloons or bet < 0:\n",
    "        # If the bet is invalid, ask for another\n",
    "        print(\"That is not a valid bet!\")\n",
    "        bet = int(input(\"Please enter your bet: \"))        \n",
    "        \n",
    "    # Exit loop (end game) if bet is zero\n",
    "    if bet == 0:\n",
    "        print(\"You left the game with\", doubloons, \"doubloons.\")\n",
    "        break\n",
    "        \n",
    "    # Generate and show the user the first random number\n",
    "    first = random.randint(1, 10)\n",
    "    print(\"The first number is\", first)\n",
    "\n",
    "    # Ask for the user's guess: higher or lower\n",
    "    guess = input(\"Please enter your guess (H)igher or (L)ower: \")\n",
    "\n",
    "    # Generate and show the second random number\n",
    "    second = random.randint(1, 10)\n",
    "    print(\"The second number is\", second)\n",
    "\n",
    "    # Add or subtract their bet to/from their money based on the result\n",
    "    # (and tell them whether they were right)\n",
    "    if (second > first and guess == 'H') or (first > second and guess == 'L'):\n",
    "        print(\"You were right!\")\n",
    "        doubloons = doubloons + bet\n",
    "    else:\n",
    "        print(\"You were wrong!\")\n",
    "        doubloons = doubloons - bet\n",
    "\n",
    "    # Tell the user how much money they have\n",
    "    print(\"You now have\", doubloons, \"doubloons.\")\n",
    "\n",
    "    # Repeat."
   ]
  }
 ],
 "metadata": {
  "kernelspec": {
   "display_name": "Python 3",
   "language": "python",
   "name": "python3"
  },
  "language_info": {
   "codemirror_mode": {
    "name": "ipython",
    "version": 3
   },
   "file_extension": ".py",
   "mimetype": "text/x-python",
   "name": "python",
   "nbconvert_exporter": "python",
   "pygments_lexer": "ipython3",
   "version": "3.6.5"
  }
 },
 "nbformat": 4,
 "nbformat_minor": 2
}
