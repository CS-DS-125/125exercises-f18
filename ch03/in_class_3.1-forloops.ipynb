{
 "cells": [
  {
   "cell_type": "markdown",
   "metadata": {},
   "source": [
    "# In-Class Exercises, Ch. 3, For Loops\n",
    "\n",
    "[Python & Pandas Field Guide: Section 3.1. For Loops](https://snakebear.science/03-ControlStructures/ForLoops.html)\n",
    "\n",
    "Key ideas in these exercises:\n",
    "1. String data\n",
    "2. For loops"
   ]
  },
  {
   "cell_type": "markdown",
   "metadata": {},
   "source": [
    "***\n",
    "## Some Examples of String Multiplication\n",
    "Look at the following line of code. Make a prediction about what it will do and then run it."
   ]
  },
  {
   "cell_type": "code",
   "execution_count": null,
   "metadata": {},
   "outputs": [],
   "source": [
    "print(\"Hello \" * 5)"
   ]
  },
  {
   "cell_type": "markdown",
   "metadata": {},
   "source": [
    "Do the same for the code below. Notice that any 'white space' in a string is treated just like any other part of the string &ndash; a space is just another character, like an 'a' or a '5'."
   ]
  },
  {
   "cell_type": "code",
   "execution_count": null,
   "metadata": {},
   "outputs": [],
   "source": [
    "print(\"Hello \" * 5)\n",
    "print(\"Hello\" * 5)\n",
    "print(\"        !!!            \" * 5)\n",
    "print(\"byeGood\" * 10)\n",
    "print(\"What?\" * 0)\n",
    "print(\"|Snake Bear!\" * 30)"
   ]
  },
  {
   "cell_type": "markdown",
   "metadata": {},
   "source": [
    "***\n",
    "## Exercise 1\n",
    "This code prints a triangle without using string multiplication. It is not very interesting."
   ]
  },
  {
   "cell_type": "code",
   "execution_count": null,
   "metadata": {},
   "outputs": [],
   "source": [
    "print(\"     *\")\n",
    "print(\"    ***\")\n",
    "print(\"   *****\")\n",
    "print(\"  *******\")\n",
    "print(\" *********\")\n",
    "print(\"***********\")"
   ]
  },
  {
   "cell_type": "markdown",
   "metadata": {},
   "source": [
    "Write a program that uses string multiplication to make the same triangle pattern by repeating spaces and asterisks."
   ]
  },
  {
   "cell_type": "code",
   "execution_count": null,
   "metadata": {},
   "outputs": [],
   "source": [
    "# Write your code here"
   ]
  },
  {
   "cell_type": "markdown",
   "metadata": {},
   "source": [
    "Now, try to make the same triangle using only *two* lines of code.  Think through how you can call ``print()`` six times with only two lines of code...  Ask for a tip if you need one!"
   ]
  },
  {
   "cell_type": "code",
   "execution_count": null,
   "metadata": {},
   "outputs": [],
   "source": [
    "# Write your code here"
   ]
  },
  {
   "cell_type": "markdown",
   "metadata": {},
   "source": [
    "When you have this working, ask an instructor to come over and look at your code.  We might be able to give a few additional pointers on your code."
   ]
  },
  {
   "cell_type": "markdown",
   "metadata": {},
   "source": [
    "***\n",
    "## Exercise 2\n",
    "\n",
    "In the first chapter of the textbook, we saw some code that counts words in a string of text that start with a given letter.  Here we are going to do something similar to practice using for loops.\n",
    "\n",
    "Look at the code cell below. Try to figure out what the code does before you read the next part. \n",
    "\n",
    "Okay, so here's a bit of explanation of what this code does. See how close your guess was. \n",
    "\n",
    "The first line of code assigns a string to the variable called ``filename``. The string happens to be the name of an actual file that we are going to use. In this case its a textfile containing the text of the book \"A Tale of Two Cities\".\n",
    "\n",
    "The next two lines open the file and then assign its contents to the variable ``file_contents``.\n",
    "\n",
    "The final takes the file contents (the words) and puts them separately in a list and then assigns that list to the variable ``words``.\n",
    "\n",
    "Execute the code cell below to read the file and create the ``words`` list.  You can change the ``filename`` variable string (\"currently atotc_opening.txt\") to a different file and re-run the cell to get a list of words from a different text file.  There are three text included in this directory already (see the file browser on the left), and you can upload your own if you want using the up arrow to the left. Note: if you want to analyse your own writings you will need to save them as txt files before you upload them.  "
   ]
  },
  {
   "cell_type": "code",
   "execution_count": 8,
   "metadata": {},
   "outputs": [],
   "source": [
    "filename = \"atotc_opening.txt\"\n",
    "\n",
    "with open(filename) as f:\n",
    "    file_contents = f.read()\n",
    "\n",
    "words = file_contents.split()"
   ]
  },
  {
   "cell_type": "markdown",
   "metadata": {},
   "source": [
    "If you have executed the code cell above we should now have our text in two forms. \n",
    "The first is the entire text as a single long string assigned to the ``file_contents`` variable.\n",
    "The second is the entire text broken up into individual words, put into a list, and then assigned to the ``words`` variable. \n",
    "\n",
    "Remember the ``len()`` function?\n",
    "\n",
    "It can tell us the length of the ``file_contents`` string; which would tell us the total number of characters in our text. \n",
    "\n",
    "The ``len()`` function can also can also give us the number of items in a list; so we can use ``len()`` to tell us the total number of words in our text.\n",
    "\n",
    "Write some code to print out the number of characters in the text and the number of words in the text.\n",
    "\n",
    "For example:\n",
    "There are 684768 characters in the novel Pride and Prejudice.\n",
    "There are 121567 words in the novel Pride and Prejudice."
   ]
  },
  {
   "cell_type": "code",
   "execution_count": 11,
   "metadata": {},
   "outputs": [],
   "source": [
    "# Write your code here"
   ]
  },
  {
   "cell_type": "markdown",
   "metadata": {},
   "source": [
    "Do you think Jane Austen used longer words on average than Charles Dickens? We could write a pretty simple program to answer this question. \n",
    "\n",
    "First we would need to know the sum of all of the characters in all of the words in our text. Now you may be thinking we've already done that in the character count from above. But that's not quite the same. Take a minute and see if you can figure out why its different. \n",
    "\n",
    "The character count we did previously counted all the characters in the text, which includes white space, not just letters. So we can't use that character count to answer our question.\n",
    "\n",
    "Instead we need to ignore the white space and count just the letters. If we can get the sum of all of the letters and then divide that by the number of words, we will have the average word length.\n",
    "\n",
    "So how do we count just the letters? There's many ways to do it but for this exercise we want you to write a program that counts the letters in each word of our ``words`` list. When our ``words`` list was created all the white space was removed so it has all the letters we want and nothing else. That challenge here is to write a program that moves through the list and counts all the letters in each word and adds up a total.  \n",
    "\n",
    "Remember that a for loop lets us repeat some code for every item in a list.  To write code that adds the lengths of the words, think about what steps need to be repeated; those steps will go into the body of the for loop.  You will also need to think about how to use a variable to store and update the growing sum.  As always, ask for a tip if you need one!\n",
    "\n",
    "*[Suggestion: if you have a for loop repeating once for every word in the list, you probably **don't** want to put a ``print()`` statement inside that loop.  It will print way more than is useful, and it may take a long time to finish, too.]*\n",
    "\n",
    "In Pride and Prejudice there are 121567 words with a sum of 560736 characters. The average word length in Pride and Prejudice is 4.6126. What is the average length of the words in the complete text of 'A Tale of Two Cities'?\n"
   ]
  },
  {
   "cell_type": "code",
   "execution_count": 14,
   "metadata": {},
   "outputs": [],
   "source": [
    "filename = \"atotc.txt\"\n",
    "\n",
    "with open(filename) as f:\n",
    "    file_contents = f.read()\n",
    "\n",
    "words = file_contents.split()\n",
    "\n",
    "# Write your code here"
   ]
  },
  {
   "cell_type": "markdown",
   "metadata": {},
   "source": [
    "***\n",
    "## Exercise 3\n",
    "\n",
    "If you still have time, here's a more challenging one.  Using the ``words`` list generated above, write code that will find the *longest* word in the list.\n",
    "\n",
    "It's often useful to think through a problem like this first in terms of how *you* would solve it yourself, without a computer.  That is, if someone gave you a book or other long text, a notepad, and a pencil, what steps would you follow to find the longest word in the text?  Then, think about what steps you are repeating, and try to make a formal series of instructions for doing the work.  \n",
    "\n",
    "Once you know what steps you would follow you can think about how to translate that into instructions for the computer to follow.  This basic process helps you work from a high level of understanding down to a more detailed level with the instructions themselves, and it can be much easier than trying to think through all of the details of the code all at once.\n",
    "\n",
    "(Remember that when testing, you can change the ``filename`` variable and re-run the cell that reads the file to get different data into ``words`` if you want to see what your code does on the other files.)"
   ]
  },
  {
   "cell_type": "code",
   "execution_count": null,
   "metadata": {},
   "outputs": [],
   "source": [
    "# Write your code here"
   ]
  },
  {
   "cell_type": "markdown",
   "metadata": {},
   "source": [
    "Feel free to show this one to an instructor in class, or bring it to office hours if you want someone to look it over later."
   ]
  }
 ],
 "metadata": {
  "kernelspec": {
   "display_name": "Python 3",
   "language": "python",
   "name": "python3"
  },
  "language_info": {
   "codemirror_mode": {
    "name": "ipython",
    "version": 3
   },
   "file_extension": ".py",
   "mimetype": "text/x-python",
   "name": "python",
   "nbconvert_exporter": "python",
   "pygments_lexer": "ipython3",
   "version": "3.6.5"
  }
 },
 "nbformat": 4,
 "nbformat_minor": 2
}
