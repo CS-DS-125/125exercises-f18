{
 "cells": [
  {
   "cell_type": "markdown",
   "metadata": {},
   "source": [
    "# Surviving the Titanic\n",
    "\n",
    "This contains a few exercises focused on using data frames to begin looking at data.  It uses the `titanic.csv` dataset.\n",
    "\n",
    "Relevant textbook section: [7.1 - An Introduction to Working with Dataframes](https://snakebear.science/07-Pandas/Dataframes.html)"
   ]
  },
  {
   "cell_type": "code",
   "execution_count": null,
   "metadata": {},
   "outputs": [],
   "source": [
    "import pandas as pd\n",
    "import numpy as np\n",
    "import matplotlib.pyplot as plt\n",
    "\n",
    "# For slightly nicer charts\n",
    "plt.rcParams['figure.figsize'] = [10, 6]\n",
    "plt.rcParams['figure.dpi'] = 150"
   ]
  },
  {
   "cell_type": "markdown",
   "metadata": {},
   "source": [
    "***\n",
    "Now we read a CSV file of passengers of the titanic and assign it to a variable called `df`. Each row in the dataset represents one passenger on the titanic. Each row contains information about the passenger and whether they survived. The columns are labelled as follows: \n",
    "* 'Survived'\n",
    "* 'Pclass'\n",
    "* 'Name'\n",
    "* 'Sex'\n",
    "* 'Age'\n",
    "* 'Siblings/Spouses Aboard'\n",
    "* 'Parents/Children Aboard'\n",
    "* 'Fare'\n",
    "\n",
    "The dataset comes from here: http://web.stanford.edu/class/archive/cs/cs109/cs109.1166/problem12.html"
   ]
  },
  {
   "cell_type": "code",
   "execution_count": null,
   "metadata": {},
   "outputs": [],
   "source": [
    "df = pd.read_csv(\"titanic.csv\")"
   ]
  },
  {
   "cell_type": "markdown",
   "metadata": {},
   "source": [
    "At this point all we know is that we've succesfully read a csv file. Let's find out some more about the data. First, let's find out how much data there is in the file. "
   ]
  },
  {
   "cell_type": "code",
   "execution_count": null,
   "metadata": {},
   "outputs": [],
   "source": [
    "df.shape"
   ]
  },
  {
   "cell_type": "markdown",
   "metadata": {},
   "source": [
    "`shape` is a list of two numbers (technically a \"tuple,\" but it's a lot like a list) that represent the number of rows and the number of columns in your dataframe. The titanic data set has 887 rows (each representing one passenger) and 8 columns.\n",
    "\n",
    "It might be a good idea to get a look at our dataframe but 887 rows seems like a bit much to look at all at once. We can look at just part of the dataframe by using the dataframe method `.head()`."
   ]
  },
  {
   "cell_type": "code",
   "execution_count": null,
   "metadata": {},
   "outputs": [],
   "source": [
    "df.head()"
   ]
  },
  {
   "cell_type": "markdown",
   "metadata": {},
   "source": [
    "***\n",
    "## Replacing Values\n",
    "\n",
    "The 0 and 1 values used to the code the 'Survived' column is not easy to read or understand. The 1, 2, 3 values used to code Passenger Class are a little better but could also be improved with more descriptive values. To recode values in a column we can used the replace method."
   ]
  },
  {
   "cell_type": "code",
   "execution_count": null,
   "metadata": {},
   "outputs": [],
   "source": [
    "df['Survived'] = df['Survived'].replace(0, 'Perished')"
   ]
  },
  {
   "cell_type": "markdown",
   "metadata": {},
   "source": [
    "In the first line of code above we have applied the `replace` method to the 'Survived column of the dataframe. Specifically, `df['Survived']` is accessing the 'Survived' column of the dataframe, and `.replace()` is calling a method on that column that takes any instance of the first argument we supply, in this case `0`, and replaces it with the second value, 'Perished'.\n",
    "\n",
    "\n",
    "We can do this again to replace `1` with `Survived`."
   ]
  },
  {
   "cell_type": "code",
   "execution_count": null,
   "metadata": {},
   "outputs": [],
   "source": [
    "df['Survived'] = df['Survived'].replace(1, 'Survived')\n",
    "df.head()"
   ]
  },
  {
   "cell_type": "markdown",
   "metadata": {},
   "source": [
    "In the cell below use the `replace()` method to replace the `1`, `2`, `3`, values in 'Pclass' with 'First Class', 'Second Class', 'Third Class'."
   ]
  },
  {
   "cell_type": "code",
   "execution_count": null,
   "metadata": {},
   "outputs": [],
   "source": [
    "# Write and test code here"
   ]
  },
  {
   "cell_type": "markdown",
   "metadata": {},
   "source": [
    "***\n",
    "## Value Counts\n",
    "\n",
    "That looks pretty good. Now the big question: what can this data tell us about who was likely to survive the titanic? First, let's find out how many people lived. "
   ]
  },
  {
   "cell_type": "code",
   "execution_count": null,
   "metadata": {},
   "outputs": [],
   "source": [
    "df['Survived'].value_counts()"
   ]
  },
  {
   "cell_type": "markdown",
   "metadata": {},
   "source": [
    "What we've done here is apply the `value_counts()` method to the 'Survived' column of the dataframe.  Specifically, `df['Survived']` is accessing the 'Survived' column of the dataframe, and `.value_counts()` is calling a method on that column that counts the number of times each unique value appears in the column.\n",
    "\n",
    "\n",
    "It looks like there were 342 survivors. Now it's your turn: use the same method to look at the counts of Passenger Class and Sex. "
   ]
  },
  {
   "cell_type": "code",
   "execution_count": null,
   "metadata": {},
   "outputs": [],
   "source": [
    "# Write and test code here"
   ]
  },
  {
   "cell_type": "markdown",
   "metadata": {},
   "source": [
    "If we group dataframe rows using `.groupby()`, then `.value_counts()` will apply within each group. For example, here we group the data by the Passenger Class ('Pclass') values, then use `.value_counts()` again on the 'Survived' column of the grouped data:"
   ]
  },
  {
   "cell_type": "code",
   "execution_count": null,
   "metadata": {},
   "outputs": [],
   "source": [
    "df_byPclass = df.groupby(by='Pclass')\n",
    "df_byPclass['Survived'].value_counts()"
   ]
  },
  {
   "cell_type": "markdown",
   "metadata": {},
   "source": [
    "Notice, however, that by default value_counts is sorting the results by the most frequent outcome. This make the result above a bit hard to read since the first class passengers are sorted differently than the rest (since more survived than perished). We can pass an argument to value_counts to stop it from sorting this way.  "
   ]
  },
  {
   "cell_type": "code",
   "execution_count": null,
   "metadata": {},
   "outputs": [],
   "source": [
    "df_byPclass['Survived'].value_counts(sort=False)"
   ]
  },
  {
   "cell_type": "markdown",
   "metadata": {},
   "source": [
    "We can also use the `.groupby()` method to group on multiple columns by passing it a list of column names."
   ]
  },
  {
   "cell_type": "code",
   "execution_count": null,
   "metadata": {},
   "outputs": [],
   "source": [
    "df_byClassSex = df.groupby(by=['Pclass', 'Sex'])\n",
    "df_byClassSex['Survived'].value_counts(sort=False)"
   ]
  },
  {
   "cell_type": "markdown",
   "metadata": {},
   "source": [
    "The result above might be more informative if we first sorted by 'Sex' and then sorted by 'Pclass'. Try reversing the order of the columns in the list passed to `.groupby()`."
   ]
  },
  {
   "cell_type": "code",
   "execution_count": null,
   "metadata": {},
   "outputs": [],
   "source": [
    "# Write and test code here"
   ]
  },
  {
   "cell_type": "markdown",
   "metadata": {},
   "source": [
    "***\n",
    "## Cross Tabulation\n",
    "Up to this point we have used `value_counts()` to and `groupby()` to produce basic counts in a table-like format. When we compare survival for different groups we are taking one kind of categorical data (Survived, Perished) and seeing how it related to another kind of categorical data (First Class, Second Class, Third Class). This type of analysis is really common in all kinds of applications. A more formal tool for looking at data this way is a ['Contingency Table' or 'Cross Tabulation'.](https://en.wikipedia.org/wiki/Contingency_table) \n"
   ]
  },
  {
   "cell_type": "code",
   "execution_count": null,
   "metadata": {},
   "outputs": [],
   "source": [
    "pd.crosstab(df['Pclass'], df['Survived'])"
   ]
  },
  {
   "cell_type": "markdown",
   "metadata": {},
   "source": [
    "In the code above we have passed two columns from our dataframe into the Pandas `crosstab()` method. The `crosstab()` method has some additional features that make it very useful. \n",
    "First, we can add the argument `margins` that produces row or column subtotals (margins). "
   ]
  },
  {
   "cell_type": "code",
   "execution_count": null,
   "metadata": {},
   "outputs": [],
   "source": [
    "pd.crosstab(df['Pclass'], df['Survived'], margins=True)"
   ]
  },
  {
   "cell_type": "markdown",
   "metadata": {},
   "source": [
    "Second, we can add an argument `normalize` that coverts our the frequency counts to percentages. Here we specify we want values in each row converted to percentages."
   ]
  },
  {
   "cell_type": "code",
   "execution_count": null,
   "metadata": {},
   "outputs": [],
   "source": [
    "pd.crosstab(df['Pclass'], df['Survived'], margins=True, normalize='index')"
   ]
  },
  {
   "cell_type": "markdown",
   "metadata": {},
   "source": [
    "Write your own code to make crosstabs examining the survival or passengers with sibling or spouses aboard the ship and another examining parents or children on board."
   ]
  },
  {
   "cell_type": "code",
   "execution_count": null,
   "metadata": {},
   "outputs": [],
   "source": [
    "# Write and test your code here"
   ]
  },
  {
   "cell_type": "markdown",
   "metadata": {},
   "source": [
    "***\n",
    "We can extend the cross tabs by passing a list of columns. Here we've passed in two dataframe columns for the crosstab rows and a single column for the crosstab columns."
   ]
  },
  {
   "cell_type": "code",
   "execution_count": null,
   "metadata": {},
   "outputs": [],
   "source": [
    "pd.crosstab([df['Pclass'], df['Sex']], df['Survived'], normalize='index')"
   ]
  },
  {
   "cell_type": "markdown",
   "metadata": {},
   "source": [
    "Write your own code to make crosstabs examining the survival of using a list of column values from the dataframe to specify the rows. (Choose any columns you like). "
   ]
  },
  {
   "cell_type": "code",
   "execution_count": null,
   "metadata": {},
   "outputs": [],
   "source": [
    "# Write and test your code here"
   ]
  }
 ],
 "metadata": {
  "kernelspec": {
   "display_name": "Python 3",
   "language": "python",
   "name": "python3"
  },
  "language_info": {
   "codemirror_mode": {
    "name": "ipython",
    "version": 3
   },
   "file_extension": ".py",
   "mimetype": "text/x-python",
   "name": "python",
   "nbconvert_exporter": "python",
   "pygments_lexer": "ipython3",
   "version": "3.6.5"
  }
 },
 "nbformat": 4,
 "nbformat_minor": 2
}
