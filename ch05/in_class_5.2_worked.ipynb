{
 "cells": [
  {
   "cell_type": "markdown",
   "metadata": {},
   "source": [
    "# Exploring Data from 311 Service Calls in Chicago\n",
    "\n",
    "On the [Chicago Data Portal](https://data.cityofchicago.org/), the city of Chicago provides a wealth of data about the city and its governance.  One of the many datasets available catalogs 311 service calls (311 is a telephone number through which the city provides non-emergency services), and of the many collections of data within that broader set, we can find a list of [service requests regarding abandoned vehicles](https://data.cityofchicago.org/Service-Requests/311-Service-Requests-Abandoned-Vehicles-No-Duplica/atid-bgws) collected since 2011.\n",
    "\n",
    "In this exercise, we will work together as a class to explore this data and possibly, if there is time, answer such pressing questions as \"What is the most popular color for abandoned cars in Chicago?\" and \"Ford or Chevy: which is abandoned more?\""
   ]
  },
  {
   "cell_type": "markdown",
   "metadata": {},
   "source": [
    "***"
   ]
  },
  {
   "cell_type": "markdown",
   "metadata": {},
   "source": [
    "The data is provided in a file that has been copied into this directory: `311_Service_Requests_-_Abandoned_Vehicles_-_No_Duplicates.csv`.  First, we have a bit of code to read the contents of the file into a single string:"
   ]
  },
  {
   "cell_type": "code",
   "execution_count": 47,
   "metadata": {},
   "outputs": [],
   "source": [
    "with open(\"311_Service_Requests_-_Abandoned_Vehicles_-_No_Duplicates.csv\") as f:\n",
    "    file_contents = f.read()"
   ]
  },
  {
   "cell_type": "markdown",
   "metadata": {},
   "source": [
    "Now it's up to us to dig into this data using the tools we're studying for manipulating strings and lists...  We'll create cells below to explore the data."
   ]
  },
  {
   "cell_type": "markdown",
   "metadata": {},
   "source": [
    "First, look at the first small piece of the string to get a sense of it."
   ]
  },
  {
   "cell_type": "code",
   "execution_count": 48,
   "metadata": {},
   "outputs": [
    {
     "name": "stdout",
     "output_type": "stream",
     "text": [
      "Creation Date,Status,Completion Date,Service Request Number,Type of Service Request,License Plate,Vehicle Make/Model,Vehicle Color,Current Activity,Most Recent Action,How Many Days Has the Vehicle Been Reported as Parked?,Street Address,ZIP Code,Ward,Police District,Community Area,SSA\n",
      "01/01/2011,Completed,01/05/2011,11-00001976,Abandoned Vehicle Complaint,H924236,Ford,White,,,60,6059 S KOMENSKY AVE,60629,13,8,65,3\n",
      "01/01/2011,Completed,01/05/2011,11-00002291,Abandoned Vehicle Complaint,810 LYB    WISCONSIN PLATES,Mercury,Green,,,,4651 S WASHTENAW AVE,60632,12,9,58,\n",
      "01/01/2011,Completed,01/05/2011,11-00002696,Abandoned Vehicle Complaint,368M783,Buick,Gold,,,10,6200 S MASSASOIT AVE,60638,13,8,64,\n",
      "01/01/2011,Completed,01/05/2011,11-00003094,Abandoned Vehicle Complaint,000000000,Dodge,White,,,30,5816 S ALBANY AVE,60629,14,8,63,59\n",
      "01/01/2011,Completed,01/05/2011,11-00003456,Abandoned Vehicle Complaint,TEXAS PLATE  -  SMALL FLATBED HITCH TRAILER  -  MISSING TIRES,,Black,,,,4559 S KEELER AVE,6\n"
     ]
    }
   ],
   "source": [
    "print(file_contents[:1000])"
   ]
  },
  {
   "cell_type": "markdown",
   "metadata": {},
   "source": [
    "Split the giant string into a list of strings, with one per line/row."
   ]
  },
  {
   "cell_type": "code",
   "execution_count": 49,
   "metadata": {},
   "outputs": [],
   "source": [
    "lines = file_contents.split('\\n')"
   ]
  },
  {
   "cell_type": "markdown",
   "metadata": {},
   "source": [
    "Let's look at the first few entries in this list."
   ]
  },
  {
   "cell_type": "code",
   "execution_count": 50,
   "metadata": {},
   "outputs": [
    {
     "name": "stdout",
     "output_type": "stream",
     "text": [
      "Creation Date,Status,Completion Date,Service Request Number,Type of Service Request,License Plate,Vehicle Make/Model,Vehicle Color,Current Activity,Most Recent Action,How Many Days Has the Vehicle Been Reported as Parked?,Street Address,ZIP Code,Ward,Police District,Community Area,SSA\n",
      "\n",
      "01/01/2011,Completed,01/05/2011,11-00001976,Abandoned Vehicle Complaint,H924236,Ford,White,,,60,6059 S KOMENSKY AVE,60629,13,8,65,3\n",
      "\n",
      "01/02/2012,Completed,01/23/2012,12-00003795,Abandoned Vehicle Complaint,L701065,Chevrolet,Gray,FVI - Outcome,Vehicle was moved from original address requested,14,10240 S EBERHART AVE,60628,9,5,49,41\n"
     ]
    }
   ],
   "source": [
    "print(lines[0])\n",
    "print()\n",
    "print(lines[1])\n",
    "print()\n",
    "print(lines[100])"
   ]
  },
  {
   "cell_type": "markdown",
   "metadata": {},
   "source": [
    "We can get the color of any individual record from the file."
   ]
  },
  {
   "cell_type": "code",
   "execution_count": 51,
   "metadata": {},
   "outputs": [
    {
     "name": "stdout",
     "output_type": "stream",
     "text": [
      "01/09/2014,Completed,01/15/2014,14-00034140,Abandoned Vehicle Complaint,P348315,Chevrolet,Red,FVI - Outcome,Return to Owner - Vehicle,10,3700 W 60TH PL,60629,13,8,65,\n",
      "['01/09/2014', 'Completed', '01/15/2014', '14-00034140', 'Abandoned Vehicle Complaint', 'P348315', 'Chevrolet', 'Red', 'FVI - Outcome', 'Return to Owner - Vehicle', '10', '3700 W 60TH PL', '60629', '13', '8', '65', '']\n",
      "Red\n"
     ]
    }
   ],
   "source": [
    "test_line = lines[54321]\n",
    "print(test_line)\n",
    "entries = test_line.split(',')\n",
    "print(entries)\n",
    "# The color is the 8th entry in this list\n",
    "print(entries[7])"
   ]
  },
  {
   "cell_type": "markdown",
   "metadata": {},
   "source": [
    "We can make a function to pull the color out of any line."
   ]
  },
  {
   "cell_type": "code",
   "execution_count": 52,
   "metadata": {},
   "outputs": [],
   "source": [
    "def find_color(line):\n",
    "    entries = line.split(',')\n",
    "    \n",
    "    # Check for a bad line (that doesn't have a color value)\n",
    "    if len(entries) < 8:\n",
    "        return None\n",
    "    \n",
    "    color = entries[7]\n",
    "    \n",
    "    # Reject anything longer than ten characters (probably bad data)\n",
    "    if len(color) > 10:\n",
    "        return None\n",
    "    \n",
    "    return color"
   ]
  },
  {
   "cell_type": "code",
   "execution_count": 53,
   "metadata": {},
   "outputs": [
    {
     "name": "stdout",
     "output_type": "stream",
     "text": [
      "Black\n"
     ]
    }
   ],
   "source": [
    "# Test the function, make sure it does what we want...\n",
    "print(find_color(lines[45678]))"
   ]
  },
  {
   "cell_type": "markdown",
   "metadata": {},
   "source": [
    "Use that function to get every single color from the file (across all of the lines)."
   ]
  },
  {
   "cell_type": "code",
   "execution_count": 54,
   "metadata": {},
   "outputs": [
    {
     "name": "stdout",
     "output_type": "stream",
     "text": [
      "[None, 'White', 'Green', 'Gold', 'White', 'Black', 'Purple', 'Blue', 'Black', 'White']\n",
      "161435\n"
     ]
    }
   ],
   "source": [
    "# build up a list of colors, starting from an empty list\n",
    "color_list = []\n",
    "for line in lines:\n",
    "    color = find_color(line)\n",
    "    color_list.append(color)\n",
    "\n",
    "# check the list by printing the first ten entries\n",
    "print(color_list[:10])\n",
    "print(len(color_list))"
   ]
  },
  {
   "cell_type": "markdown",
   "metadata": {},
   "source": [
    "Count how many times a particular color shows up in the list."
   ]
  },
  {
   "cell_type": "code",
   "execution_count": 55,
   "metadata": {},
   "outputs": [
    {
     "data": {
      "text/plain": [
       "25294"
      ]
     },
     "execution_count": 55,
     "metadata": {},
     "output_type": "execute_result"
    }
   ],
   "source": [
    "color_list.count(\"Black\")"
   ]
  }
 ],
 "metadata": {
  "kernelspec": {
   "display_name": "Python 3",
   "language": "python",
   "name": "python3"
  },
  "language_info": {
   "codemirror_mode": {
    "name": "ipython",
    "version": 3
   },
   "file_extension": ".py",
   "mimetype": "text/x-python",
   "name": "python",
   "nbconvert_exporter": "python",
   "pygments_lexer": "ipython3",
   "version": "3.6.5"
  }
 },
 "nbformat": 4,
 "nbformat_minor": 2
}
