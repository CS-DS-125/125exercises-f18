{
 "cells": [
  {
   "cell_type": "markdown",
   "metadata": {},
   "source": [
    "# Python & Pandas Field Guide Word Count Example\n",
    "\n",
    "This is the example program in Chapter 1 of *The Python & Pandas Field Guide*."
   ]
  },
  {
   "cell_type": "code",
   "execution_count": null,
   "metadata": {},
   "outputs": [],
   "source": [
    "# Count words in a file starting with a given letter.\n",
    "\n",
    "countchar = 'w'\n",
    "\n",
    "file = open(\"atotc_opening.txt\")\n",
    "\n",
    "text = file.read()\n",
    "\n",
    "words = text.split()\n",
    "\n",
    "count = 0\n",
    "for word in words:\n",
    "    if word.startswith(countchar):\n",
    "        count = count + 1\n",
    "\n",
    "file.close()\n",
    "\n",
    "print(\"{} words start with '{}'.\".format(count, countchar))"
   ]
  }
 ],
 "metadata": {
  "kernelspec": {
   "display_name": "Python 3",
   "language": "python",
   "name": "python3"
  },
  "language_info": {
   "codemirror_mode": {
    "name": "ipython",
    "version": 3
   },
   "file_extension": ".py",
   "mimetype": "text/x-python",
   "name": "python",
   "nbconvert_exporter": "python",
   "pygments_lexer": "ipython3",
   "version": "3.6.5"
  }
 },
 "nbformat": 4,
 "nbformat_minor": 2
}
